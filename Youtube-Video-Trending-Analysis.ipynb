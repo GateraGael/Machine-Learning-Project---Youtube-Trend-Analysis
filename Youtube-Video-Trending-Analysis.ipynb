{
 "cells": [
  {
   "cell_type": "markdown",
   "metadata": {},
   "source": [
    "<center>Student Name: Gael Gatera</center>"
   ]
  },
  {
   "cell_type": "markdown",
   "metadata": {},
   "source": [
    "The code below was made to hide specific input cells and was found on stack overflow (5)."
   ]
  },
  {
   "cell_type": "code",
   "execution_count": 103,
   "metadata": {},
   "outputs": [
    {
     "data": {
      "text/html": [
       "\n",
       "    <script>\n",
       "    function code_toggle() {\n",
       "        if ($('div.cell.code_cell.rendered.selected div.input').css('display')!='none'){\n",
       "            $('div.cell.code_cell.rendered.selected div.input').hide();\n",
       "        } else {\n",
       "            $('div.cell.code_cell.rendered.selected div.input').show();\n",
       "        }\n",
       "    }\n",
       "    </script>\n",
       "\n",
       "\n",
       "<form action=\"javascript:code_toggle()\"><input type=\"submit\" id=\"toggleButton\" value=\"Hide Code\"></form>\n"
      ],
      "text/plain": [
       "<IPython.core.display.HTML object>"
      ]
     },
     "metadata": {},
     "output_type": "display_data"
    }
   ],
   "source": [
    "from IPython.core.display import display, HTML\n",
    "toggle_code_str = '''\n",
    "<form action=\"javascript:code_toggle()\"><input type=\"submit\" id=\"toggleButton\" value=\"Hide Code\"></form>\n",
    "'''\n",
    "\n",
    "toggle_code_prepare_str = '''\n",
    "    <script>\n",
    "    function code_toggle() {\n",
    "        if ($('div.cell.code_cell.rendered.selected div.input').css('display')!='none'){\n",
    "            $('div.cell.code_cell.rendered.selected div.input').hide();\n",
    "        } else {\n",
    "            $('div.cell.code_cell.rendered.selected div.input').show();\n",
    "        }\n",
    "    }\n",
    "    </script>\n",
    "\n",
    "'''\n",
    "\n",
    "display(HTML(toggle_code_prepare_str + toggle_code_str))\n",
    "\n",
    "def Hide_code():\n",
    "    display(HTML(toggle_code_str))"
   ]
  },
  {
   "cell_type": "markdown",
   "metadata": {},
   "source": [
    "# Introduction"
   ]
  },
  {
   "cell_type": "markdown",
   "metadata": {},
   "source": [
    "## Essential Libraries, Tools & Dependencies\n",
    "\n",
    "Relative importing allows a python file or a Pyhon module to access the script from another Python file or module. The import statement adds the object to the current scope of your program (11).\n",
    "\n",
    "__Scikit-learn (sklearn):__ Contains a number of state-of-the-art machine learning algorithms that were used throughout this project. Scikit-learn is considered the most prominent Python library for machine learning and depends on two other Python packages, Numpy and SciPy (5).\n",
    "\n",
    "__OS:__ The OS module in Python provides a way of using operating system dependent functionality. The functions that the OS module provides allows you to interface with the underlying operating system that Python is running on - be that Windows, Mac or Linux (3).\n",
    "\n",
    "__Pandas:__ This is a Python library for data wrangling and analysis. Pandas provides a great range of methods to modify and operate on this table; in particular, it allows SQL-like queries and joins of tables (5). This library is mainly used in data pre-processing.\n",
    "\n",
    "__Numpy:__ This is one of the fundamental packages for scientific computing in Python. It contains functionality for multidimensional arrays, high-level mathematical functions such as linear algebra operations. In scikit-learn, the Numpy array is the fundamental data structure (5).\n",
    "\n",
    "__Scipy:__ This is a collection of functions for scientic computing in Python. It provides, among other functionalities, advanced linear algebra routines, mathematical functions, and statistical distributions (5).\n",
    "\n",
    "__Matplotlib:__ This is considered the primary scientific plotting library in Python. It provides functions for making publication-quality visualizations such as line charts, histograms, scatter plots and so on (5).\n",
    "\n",
    "__Seaborn:__ This is a library for making statistical graphics in Python. It is built on top of matplotlib and closely integrated with pandas data structures. Seaborn aims to make visualization a central part of exploring and understanding data. It's dataset-oriented plotting functions operate on dataframes and arrays containing whole datasets and internally perform the necessary semantinc mapping and statistical aggregation to produce informative plots (6). Seaborn's functionality include but is not limited to:\n",
    "\n",
    "  * A dataset-oriented API for examining relationships between multiple variables.\n",
    "\n",
    "  * Specialized support for using categorical variables to show observations or aggregate statistics.\n",
    "  \n",
    "  * Options for visualizing univariate or bivariate distributions and for comparing them between subsets of data.\n",
    "  \n",
    "__Itertools:__ Collection of tools for handling iterators. Simply put, iterators are data types that can be used in a for loop. The most common iterator in Python is the list(9).\n",
    "  \n",
    "__io module:__ The default interface to access files and streams in Python 3.0 (docs.python.org)."
   ]
  },
  {
   "cell_type": "code",
   "execution_count": 105,
   "metadata": {},
   "outputs": [
    {
     "data": {
      "text/html": [
       "\n",
       "<form action=\"javascript:code_toggle()\"><input type=\"submit\" id=\"toggleButton\" value=\"Hide Code\"></form>\n"
      ],
      "text/plain": [
       "<IPython.core.display.HTML object>"
      ]
     },
     "metadata": {},
     "output_type": "display_data"
    },
    {
     "name": "stdout",
     "output_type": "stream",
     "text": [
      "Python version: 3.7.1 (default, Dec 10 2018, 22:54:23) [MSC v.1915 64 bit (AMD64)]\n",
      "Pandas version: 0.23.4\n",
      "Numpy version: 1.15.4\n",
      "MatplotLib version: 3.0.2\n",
      "Seaborn version: 0.9.0\n",
      "Numpy version: 1.1.0\n",
      "IPython version: 7.2.0\n",
      "sklearn version: 0.20.1\n"
     ]
    }
   ],
   "source": [
    "display(HTML(toggle_code_str))\n",
    "\n",
    "#Importing Dependencies \n",
    "import os\n",
    "\n",
    "import sys\n",
    "print(\"Python version: {}\".format(sys.version))\n",
    "\n",
    "# Importing panas \n",
    "import pandas as pd\n",
    "print(\"Pandas version: {}\".format(pd.__version__))\n",
    "\n",
    "# Importing numpy \n",
    "import numpy as np\n",
    "print(\"Numpy version: {}\".format(np.__version__))\n",
    "\n",
    "# Importing matplotlib for plotting \n",
    "import matplotlib as plt\n",
    "print(\"MatplotLib version: {}\".format(plt.__version__))\n",
    "\n",
    "# importing seaborn for plotting \n",
    "import seaborn as sns\n",
    "sns.set_style('whitegrid')\n",
    "sns.set()\n",
    "print(\"Seaborn version: {}\".format(sns.__version__))\n",
    "\n",
    "# Importing warnings to ignore 'errors'\n",
    "import warnings\n",
    "warnings.filterwarnings('ignore')\n",
    "plt.style.use('classic')\n",
    "\n",
    "# Importing scipy & libraries that we will use  \n",
    "import scipy as sp\n",
    "print(\"Numpy version: {}\".format(sp.__version__))\n",
    "from scipy.stats import skew\n",
    "\n",
    "# Stats for statistical functions \n",
    "from scipy import stats \n",
    "\n",
    "#Importing scipy for stats for pearson distribution Skewness and Kurtosis\n",
    "from scipy.stats.stats import pearsonr\n",
    "\n",
    "#Importing scipy for stats for normal distribution \n",
    "from scipy.stats import norm\n",
    "\n",
    "# Importing Ipython \n",
    "import IPython\n",
    "print(\"IPython version: {}\".format(IPython.__version__))\n",
    "\n",
    "# Importing sckitit learn & the decision tree module\n",
    "import sklearn\n",
    "print(\"sklearn version: {}\".format(sklearn.__version__))\n",
    "from sklearn import tree\n",
    "\n",
    "# Import label encoder\n",
    "from sklearn.preprocessing import LabelEncoder"
   ]
  },
  {
   "cell_type": "markdown",
   "metadata": {},
   "source": [
    "## Data Pre-Processing\n",
    "  The pandas library is very helpful with this step of the Data exploration and overall Data Analysis workflow. Pandas allows the user to import the raw csv file and transform it into a Dataframe with which many operations can be done on. The first operation that was done in this case is to use the \".columns\" method in order to look at the columns which are relevant to the project. "
   ]
  },
  {
   "cell_type": "code",
   "execution_count": 109,
   "metadata": {},
   "outputs": [
    {
     "data": {
      "text/html": [
       "\n",
       "<form action=\"javascript:code_toggle()\"><input type=\"submit\" id=\"toggleButton\" value=\"Hide Code\"></form>\n"
      ],
      "text/plain": [
       "<IPython.core.display.HTML object>"
      ]
     },
     "metadata": {},
     "output_type": "display_data"
    },
    {
     "data": {
      "text/plain": [
       "Index(['video_id', 'trending_date', 'title', 'channel_title', 'category_id',\n",
       "       'publish_time', 'tags', 'views', 'likes', 'dislikes', 'comment_count',\n",
       "       'thumbnail_link', 'comments_disabled', 'ratings_disabled',\n",
       "       'video_error_or_removed', 'description'],\n",
       "      dtype='object')"
      ]
     },
     "execution_count": 109,
     "metadata": {},
     "output_type": "execute_result"
    }
   ],
   "source": [
    "display(HTML(toggle_code_str))\n",
    "USATrendingVideos = pd.read_csv(\"Data/USvideos.csv\")\n",
    "USATrendingVideos.columns"
   ]
  },
  {
   "cell_type": "markdown",
   "metadata": {},
   "source": [
    "### Dropping Unecessary Columns\n",
    "The data contains columns such as 'comments_disabled' and 'ratings_disabled' which are set by the actual Youtuber and should not affect whether a video trends or not. This simply means that the Youtuber does not want comments and ratings on their videos. Using columns such as 'description' and 'tags' would be useful for sentiment analysis models, however will not be performed in this project and therefore will be dropped from the dataframe. The columns 'thumbnail_link' and 'video_error_or_removed' are also irrelevent to the project and will also be dropped for faster computation and ease of analysis. "
   ]
  },
  {
   "cell_type": "code",
   "execution_count": 110,
   "metadata": {},
   "outputs": [
    {
     "data": {
      "text/html": [
       "\n",
       "<form action=\"javascript:code_toggle()\"><input type=\"submit\" id=\"toggleButton\" value=\"Hide Code\"></form>\n"
      ],
      "text/plain": [
       "<IPython.core.display.HTML object>"
      ]
     },
     "metadata": {},
     "output_type": "display_data"
    }
   ],
   "source": [
    "display(HTML(toggle_code_str))\n",
    "USATrendingVideos = USATrendingVideos.drop(['comments_disabled','ratings_disabled',\n",
    "                      'description','tags', 'thumbnail_link', 'video_error_or_removed'], axis= 1)"
   ]
  },
  {
   "cell_type": "markdown",
   "metadata": {},
   "source": [
    "### First Look"
   ]
  },
  {
   "cell_type": "markdown",
   "metadata": {},
   "source": [
    "The pandas \".head()\" method allows the user to look at the first 5 rows and the column labels. This is very helpful in order to see what kind of Data is being worked with. Also, checking how many values are contained in each column and seeing if there are any missing values can be useful."
   ]
  },
  {
   "cell_type": "code",
   "execution_count": 111,
   "metadata": {},
   "outputs": [
    {
     "data": {
      "text/html": [
       "\n",
       "<form action=\"javascript:code_toggle()\"><input type=\"submit\" id=\"toggleButton\" value=\"Hide Code\"></form>\n"
      ],
      "text/plain": [
       "<IPython.core.display.HTML object>"
      ]
     },
     "metadata": {},
     "output_type": "display_data"
    },
    {
     "data": {
      "text/html": [
       "<div>\n",
       "<style scoped>\n",
       "    .dataframe tbody tr th:only-of-type {\n",
       "        vertical-align: middle;\n",
       "    }\n",
       "\n",
       "    .dataframe tbody tr th {\n",
       "        vertical-align: top;\n",
       "    }\n",
       "\n",
       "    .dataframe thead th {\n",
       "        text-align: right;\n",
       "    }\n",
       "</style>\n",
       "<table border=\"1\" class=\"dataframe\">\n",
       "  <thead>\n",
       "    <tr style=\"text-align: right;\">\n",
       "      <th></th>\n",
       "      <th>video_id</th>\n",
       "      <th>trending_date</th>\n",
       "      <th>title</th>\n",
       "      <th>channel_title</th>\n",
       "      <th>category_id</th>\n",
       "      <th>publish_time</th>\n",
       "      <th>views</th>\n",
       "      <th>likes</th>\n",
       "      <th>dislikes</th>\n",
       "      <th>comment_count</th>\n",
       "    </tr>\n",
       "  </thead>\n",
       "  <tbody>\n",
       "    <tr>\n",
       "      <th>0</th>\n",
       "      <td>8O-ZUXGcuWU</td>\n",
       "      <td>18.14.06</td>\n",
       "      <td>Nintendo @ E3 2018: Day 2</td>\n",
       "      <td>Nintendo</td>\n",
       "      <td>20</td>\n",
       "      <td>2018-06-14T01:31:53.000</td>\n",
       "      <td>1549110</td>\n",
       "      <td>21905</td>\n",
       "      <td>1516</td>\n",
       "      <td>1318</td>\n",
       "    </tr>\n",
       "    <tr>\n",
       "      <th>1</th>\n",
       "      <td>Gi56dSh8Fq8</td>\n",
       "      <td>18.14.06</td>\n",
       "      <td>Gourmet Chef Makes A Big Mac Super Fancy</td>\n",
       "      <td>BuzzFeedVideo</td>\n",
       "      <td>22</td>\n",
       "      <td>2018-06-13T18:00:32.000</td>\n",
       "      <td>402418</td>\n",
       "      <td>10070</td>\n",
       "      <td>3303</td>\n",
       "      <td>2142</td>\n",
       "    </tr>\n",
       "    <tr>\n",
       "      <th>2</th>\n",
       "      <td>-9rdDeWzvsU</td>\n",
       "      <td>18.14.06</td>\n",
       "      <td>Stampede - Alexander Jean Ft. Lindsey Stirling</td>\n",
       "      <td>Lindsey Stirling</td>\n",
       "      <td>10</td>\n",
       "      <td>2018-06-13T16:00:24.000</td>\n",
       "      <td>296615</td>\n",
       "      <td>38671</td>\n",
       "      <td>463</td>\n",
       "      <td>2348</td>\n",
       "    </tr>\n",
       "    <tr>\n",
       "      <th>3</th>\n",
       "      <td>MrMAfMbZOmg</td>\n",
       "      <td>18.14.06</td>\n",
       "      <td>Troye Sivan - Dance To This (Official Audio) f...</td>\n",
       "      <td>TroyeSivanVEVO</td>\n",
       "      <td>10</td>\n",
       "      <td>2018-06-13T16:00:01.000</td>\n",
       "      <td>1473589</td>\n",
       "      <td>214511</td>\n",
       "      <td>2011</td>\n",
       "      <td>17455</td>\n",
       "    </tr>\n",
       "    <tr>\n",
       "      <th>4</th>\n",
       "      <td>JGm9Y_hFqNk</td>\n",
       "      <td>18.14.06</td>\n",
       "      <td>First Take reacts: Kyrie Irving says contract ...</td>\n",
       "      <td>ESPN</td>\n",
       "      <td>17</td>\n",
       "      <td>2018-06-13T15:06:08.000</td>\n",
       "      <td>812832</td>\n",
       "      <td>7701</td>\n",
       "      <td>320</td>\n",
       "      <td>2505</td>\n",
       "    </tr>\n",
       "  </tbody>\n",
       "</table>\n",
       "</div>"
      ],
      "text/plain": [
       "      video_id trending_date  \\\n",
       "0  8O-ZUXGcuWU      18.14.06   \n",
       "1  Gi56dSh8Fq8      18.14.06   \n",
       "2  -9rdDeWzvsU      18.14.06   \n",
       "3  MrMAfMbZOmg      18.14.06   \n",
       "4  JGm9Y_hFqNk      18.14.06   \n",
       "\n",
       "                                               title     channel_title  \\\n",
       "0                          Nintendo @ E3 2018: Day 2          Nintendo   \n",
       "1           Gourmet Chef Makes A Big Mac Super Fancy     BuzzFeedVideo   \n",
       "2     Stampede - Alexander Jean Ft. Lindsey Stirling  Lindsey Stirling   \n",
       "3  Troye Sivan - Dance To This (Official Audio) f...    TroyeSivanVEVO   \n",
       "4  First Take reacts: Kyrie Irving says contract ...              ESPN   \n",
       "\n",
       "   category_id             publish_time    views   likes  dislikes  \\\n",
       "0           20  2018-06-14T01:31:53.000  1549110   21905      1516   \n",
       "1           22  2018-06-13T18:00:32.000   402418   10070      3303   \n",
       "2           10  2018-06-13T16:00:24.000   296615   38671       463   \n",
       "3           10  2018-06-13T16:00:01.000  1473589  214511      2011   \n",
       "4           17  2018-06-13T15:06:08.000   812832    7701       320   \n",
       "\n",
       "   comment_count  \n",
       "0           1318  \n",
       "1           2142  \n",
       "2           2348  \n",
       "3          17455  \n",
       "4           2505  "
      ]
     },
     "execution_count": 111,
     "metadata": {},
     "output_type": "execute_result"
    }
   ],
   "source": [
    "display(HTML(toggle_code_str))\n",
    "#First look at the kind of Data we have\n",
    "USATrendingVideos.head()"
   ]
  },
  {
   "cell_type": "code",
   "execution_count": 112,
   "metadata": {},
   "outputs": [
    {
     "data": {
      "text/html": [
       "\n",
       "<form action=\"javascript:code_toggle()\"><input type=\"submit\" id=\"toggleButton\" value=\"Hide Code\"></form>\n"
      ],
      "text/plain": [
       "<IPython.core.display.HTML object>"
      ]
     },
     "metadata": {},
     "output_type": "display_data"
    },
    {
     "name": "stdout",
     "output_type": "stream",
     "text": [
      "Shape of data: (40949, 10)\n"
     ]
    }
   ],
   "source": [
    "display(HTML(toggle_code_str))\n",
    "print(\"Shape of data: {}\".format(USATrendingVideos.shape))"
   ]
  },
  {
   "cell_type": "markdown",
   "metadata": {},
   "source": [
    "The good news is that all columns have the same amount of values and there are no missing values. When looking at the \"publishing_time\" column, we can see that something is not correct. The data contained in the \"publish_time\" column in reality is a combination of date and time with the character \"T\" acting as a delimiter. The aformentioned can be kept in mind as a next step for the data preparation to separate the two before turning them into parameters. Furthermore, when we are looking at the \"category_id\" column, we see that it only contains integers. Altough this is not a bad thing in concept, a proactive analyst can realize that these will eventually be turned into categorical variables and having them labeled would be ideal. Luckily, the zipfile that was downloaded from Kaggle contains a .json file which has each categorical_id number with it's corresponding label."
   ]
  },
  {
   "cell_type": "code",
   "execution_count": 113,
   "metadata": {},
   "outputs": [
    {
     "data": {
      "text/html": [
       "\n",
       "<form action=\"javascript:code_toggle()\"><input type=\"submit\" id=\"toggleButton\" value=\"Hide Code\"></form>\n"
      ],
      "text/plain": [
       "<IPython.core.display.HTML object>"
      ]
     },
     "metadata": {},
     "output_type": "display_data"
    }
   ],
   "source": [
    "display(HTML(toggle_code_str))\n",
    "USATrendingVideos[['publish_date','publish_time']] = USATrendingVideos['publish_time'].str.split('T', expand=True)"
   ]
  },
  {
   "cell_type": "code",
   "execution_count": 114,
   "metadata": {},
   "outputs": [
    {
     "data": {
      "text/html": [
       "\n",
       "<form action=\"javascript:code_toggle()\"><input type=\"submit\" id=\"toggleButton\" value=\"Hide Code\"></form>\n"
      ],
      "text/plain": [
       "<IPython.core.display.HTML object>"
      ]
     },
     "metadata": {},
     "output_type": "display_data"
    }
   ],
   "source": [
    "display(HTML(toggle_code_str))\n",
    "# Transforming Trending date column to datetime forma\n",
    "USATrendingVideos['trending_date'] = pd.to_datetime(USATrendingVideos['trending_date'], format='%y.%d.%m').dt.date"
   ]
  },
  {
   "cell_type": "code",
   "execution_count": 115,
   "metadata": {},
   "outputs": [
    {
     "data": {
      "text/html": [
       "\n",
       "<form action=\"javascript:code_toggle()\"><input type=\"submit\" id=\"toggleButton\" value=\"Hide Code\"></form>\n"
      ],
      "text/plain": [
       "<IPython.core.display.HTML object>"
      ]
     },
     "metadata": {},
     "output_type": "display_data"
    },
    {
     "data": {
      "text/html": [
       "<div>\n",
       "<style scoped>\n",
       "    .dataframe tbody tr th:only-of-type {\n",
       "        vertical-align: middle;\n",
       "    }\n",
       "\n",
       "    .dataframe tbody tr th {\n",
       "        vertical-align: top;\n",
       "    }\n",
       "\n",
       "    .dataframe thead th {\n",
       "        text-align: right;\n",
       "    }\n",
       "</style>\n",
       "<table border=\"1\" class=\"dataframe\">\n",
       "  <thead>\n",
       "    <tr style=\"text-align: right;\">\n",
       "      <th></th>\n",
       "      <th>video_id</th>\n",
       "      <th>trending_date</th>\n",
       "      <th>title</th>\n",
       "      <th>channel_title</th>\n",
       "      <th>category_id</th>\n",
       "      <th>publish_time</th>\n",
       "      <th>views</th>\n",
       "      <th>likes</th>\n",
       "      <th>dislikes</th>\n",
       "      <th>comment_count</th>\n",
       "      <th>publish_date</th>\n",
       "    </tr>\n",
       "  </thead>\n",
       "  <tbody>\n",
       "    <tr>\n",
       "      <th>0</th>\n",
       "      <td>8O-ZUXGcuWU</td>\n",
       "      <td>2018-06-14</td>\n",
       "      <td>Nintendo @ E3 2018: Day 2</td>\n",
       "      <td>Nintendo</td>\n",
       "      <td>20</td>\n",
       "      <td>01:31:53.000</td>\n",
       "      <td>1549110</td>\n",
       "      <td>21905</td>\n",
       "      <td>1516</td>\n",
       "      <td>1318</td>\n",
       "      <td>2018-06-14</td>\n",
       "    </tr>\n",
       "    <tr>\n",
       "      <th>1</th>\n",
       "      <td>Gi56dSh8Fq8</td>\n",
       "      <td>2018-06-14</td>\n",
       "      <td>Gourmet Chef Makes A Big Mac Super Fancy</td>\n",
       "      <td>BuzzFeedVideo</td>\n",
       "      <td>22</td>\n",
       "      <td>18:00:32.000</td>\n",
       "      <td>402418</td>\n",
       "      <td>10070</td>\n",
       "      <td>3303</td>\n",
       "      <td>2142</td>\n",
       "      <td>2018-06-13</td>\n",
       "    </tr>\n",
       "    <tr>\n",
       "      <th>2</th>\n",
       "      <td>-9rdDeWzvsU</td>\n",
       "      <td>2018-06-14</td>\n",
       "      <td>Stampede - Alexander Jean Ft. Lindsey Stirling</td>\n",
       "      <td>Lindsey Stirling</td>\n",
       "      <td>10</td>\n",
       "      <td>16:00:24.000</td>\n",
       "      <td>296615</td>\n",
       "      <td>38671</td>\n",
       "      <td>463</td>\n",
       "      <td>2348</td>\n",
       "      <td>2018-06-13</td>\n",
       "    </tr>\n",
       "    <tr>\n",
       "      <th>3</th>\n",
       "      <td>MrMAfMbZOmg</td>\n",
       "      <td>2018-06-14</td>\n",
       "      <td>Troye Sivan - Dance To This (Official Audio) f...</td>\n",
       "      <td>TroyeSivanVEVO</td>\n",
       "      <td>10</td>\n",
       "      <td>16:00:01.000</td>\n",
       "      <td>1473589</td>\n",
       "      <td>214511</td>\n",
       "      <td>2011</td>\n",
       "      <td>17455</td>\n",
       "      <td>2018-06-13</td>\n",
       "    </tr>\n",
       "    <tr>\n",
       "      <th>4</th>\n",
       "      <td>JGm9Y_hFqNk</td>\n",
       "      <td>2018-06-14</td>\n",
       "      <td>First Take reacts: Kyrie Irving says contract ...</td>\n",
       "      <td>ESPN</td>\n",
       "      <td>17</td>\n",
       "      <td>15:06:08.000</td>\n",
       "      <td>812832</td>\n",
       "      <td>7701</td>\n",
       "      <td>320</td>\n",
       "      <td>2505</td>\n",
       "      <td>2018-06-13</td>\n",
       "    </tr>\n",
       "  </tbody>\n",
       "</table>\n",
       "</div>"
      ],
      "text/plain": [
       "      video_id trending_date  \\\n",
       "0  8O-ZUXGcuWU    2018-06-14   \n",
       "1  Gi56dSh8Fq8    2018-06-14   \n",
       "2  -9rdDeWzvsU    2018-06-14   \n",
       "3  MrMAfMbZOmg    2018-06-14   \n",
       "4  JGm9Y_hFqNk    2018-06-14   \n",
       "\n",
       "                                               title     channel_title  \\\n",
       "0                          Nintendo @ E3 2018: Day 2          Nintendo   \n",
       "1           Gourmet Chef Makes A Big Mac Super Fancy     BuzzFeedVideo   \n",
       "2     Stampede - Alexander Jean Ft. Lindsey Stirling  Lindsey Stirling   \n",
       "3  Troye Sivan - Dance To This (Official Audio) f...    TroyeSivanVEVO   \n",
       "4  First Take reacts: Kyrie Irving says contract ...              ESPN   \n",
       "\n",
       "   category_id  publish_time    views   likes  dislikes  comment_count  \\\n",
       "0           20  01:31:53.000  1549110   21905      1516           1318   \n",
       "1           22  18:00:32.000   402418   10070      3303           2142   \n",
       "2           10  16:00:24.000   296615   38671       463           2348   \n",
       "3           10  16:00:01.000  1473589  214511      2011          17455   \n",
       "4           17  15:06:08.000   812832    7701       320           2505   \n",
       "\n",
       "  publish_date  \n",
       "0   2018-06-14  \n",
       "1   2018-06-13  \n",
       "2   2018-06-13  \n",
       "3   2018-06-13  \n",
       "4   2018-06-13  "
      ]
     },
     "execution_count": 115,
     "metadata": {},
     "output_type": "execute_result"
    }
   ],
   "source": [
    "display(HTML(toggle_code_str))\n",
    "USATrendingVideos.head()"
   ]
  },
  {
   "cell_type": "markdown",
   "metadata": {},
   "source": [
    "### Converting .json file to .csv file"
   ]
  },
  {
   "cell_type": "markdown",
   "metadata": {},
   "source": [
    "It is very common that when pulling data from an API that the data comes in the form on a .json file. These files are key value pairs just like dictionaries, meaning they can also be made into dataframes. This section converts the US_category_id.json file which contains all the previously mentioned category id's whith the appropriate labels."
   ]
  },
  {
   "cell_type": "code",
   "execution_count": 141,
   "metadata": {},
   "outputs": [
    {
     "data": {
      "text/html": [
       "\n",
       "<form action=\"javascript:code_toggle()\"><input type=\"submit\" id=\"toggleButton\" value=\"Hide Code\"></form>\n"
      ],
      "text/plain": [
       "<IPython.core.display.HTML object>"
      ]
     },
     "metadata": {},
     "output_type": "display_data"
    }
   ],
   "source": [
    "display(HTML(toggle_code_str))\n",
    "# Dependencies\n",
    "import json\n",
    "import csv\n",
    "# Read \"category_id\" file into a variable and parse it into a JSON object:\n",
    "#read file\n",
    "with open('Data/US_category_id.json', 'r') as jsonfile:\n",
    "    data=jsonfile.read()\n",
    " \n",
    "# parse file\n",
    "jsonobj = json.loads(data)"
   ]
  },
  {
   "cell_type": "code",
   "execution_count": 140,
   "metadata": {},
   "outputs": [
    {
     "data": {
      "text/html": [
       "\n",
       "<form action=\"javascript:code_toggle()\"><input type=\"submit\" id=\"toggleButton\" value=\"Hide Code\"></form>\n"
      ],
      "text/plain": [
       "<IPython.core.display.HTML object>"
      ]
     },
     "metadata": {},
     "output_type": "display_data"
    },
    {
     "ename": "NameError",
     "evalue": "name 'jsonobj' is not defined",
     "output_type": "error",
     "traceback": [
      "\u001b[1;31m---------------------------------------------------------------------------\u001b[0m",
      "\u001b[1;31mNameError\u001b[0m                                 Traceback (most recent call last)",
      "\u001b[1;32m<ipython-input-140-0ee3ddd74e62>\u001b[0m in \u001b[0;36m<module>\u001b[1;34m\u001b[0m\n\u001b[0;32m      4\u001b[0m \u001b[0mWe\u001b[0m \u001b[0mcan\u001b[0m \u001b[0mcheck\u001b[0m \u001b[1;32mif\u001b[0m \u001b[0mthe\u001b[0m \u001b[0mcode\u001b[0m \u001b[0mwe\u001b[0m \u001b[0muse\u001b[0m \u001b[0mto\u001b[0m \u001b[0mconvert\u001b[0m \u001b[0mworks\u001b[0m \u001b[0mfine\u001b[0m\u001b[1;33m.\u001b[0m\u001b[1;33m\u001b[0m\u001b[1;33m\u001b[0m\u001b[0m\n\u001b[0;32m      5\u001b[0m '''\n\u001b[1;32m----> 6\u001b[1;33m \u001b[0mprint\u001b[0m\u001b[1;33m(\u001b[0m\u001b[0mjsonobj\u001b[0m\u001b[1;33m[\u001b[0m\u001b[1;34m'items'\u001b[0m\u001b[1;33m]\u001b[0m\u001b[1;33m[\u001b[0m\u001b[1;36m3\u001b[0m\u001b[1;33m]\u001b[0m\u001b[1;33m[\u001b[0m\u001b[1;34m'id'\u001b[0m\u001b[1;33m]\u001b[0m\u001b[1;33m)\u001b[0m\u001b[1;33m\u001b[0m\u001b[1;33m\u001b[0m\u001b[0m\n\u001b[0m",
      "\u001b[1;31mNameError\u001b[0m: name 'jsonobj' is not defined"
     ]
    }
   ],
   "source": [
    "display(HTML(toggle_code_str))\n",
    "'''\n",
    "Since .json files are like dictionaries as in they are key value pairs. \n",
    "We can check if the code we use to convert works fine.\n",
    "'''\n",
    "print(jsonobj['items'][3]['id'])"
   ]
  },
  {
   "cell_type": "markdown",
   "metadata": {},
   "source": [
    "The previous code successfully outputed '15', one of the integers in the 'category_id'. This means we now have our JSON object in memory.  Next step, we need to write our code to convert the JSON into CSV by creating a list of keys in the JSON. Once the .json file was converted into .csv file we can do the same \".head\" method that was done on the initial dataframe in order to look at the column labels."
   ]
  },
  {
   "cell_type": "code",
   "execution_count": 139,
   "metadata": {},
   "outputs": [
    {
     "data": {
      "text/html": [
       "\n",
       "<form action=\"javascript:code_toggle()\"><input type=\"submit\" id=\"toggleButton\" value=\"Hide Code\"></form>\n"
      ],
      "text/plain": [
       "<IPython.core.display.HTML object>"
      ]
     },
     "metadata": {},
     "output_type": "display_data"
    },
    {
     "ename": "NameError",
     "evalue": "name 'jsonobj' is not defined",
     "output_type": "error",
     "traceback": [
      "\u001b[1;31m---------------------------------------------------------------------------\u001b[0m",
      "\u001b[1;31mNameError\u001b[0m                                 Traceback (most recent call last)",
      "\u001b[1;32m<ipython-input-139-140204f0d9e6>\u001b[0m in \u001b[0;36m<module>\u001b[1;34m\u001b[0m\n\u001b[0;32m      1\u001b[0m \u001b[0mdisplay\u001b[0m\u001b[1;33m(\u001b[0m\u001b[0mHTML\u001b[0m\u001b[1;33m(\u001b[0m\u001b[0mtoggle_code_str\u001b[0m\u001b[1;33m)\u001b[0m\u001b[1;33m)\u001b[0m\u001b[1;33m\u001b[0m\u001b[1;33m\u001b[0m\u001b[0m\n\u001b[0;32m      2\u001b[0m \u001b[0mkeylist\u001b[0m \u001b[1;33m=\u001b[0m \u001b[1;33m[\u001b[0m\u001b[1;33m]\u001b[0m\u001b[1;33m\u001b[0m\u001b[1;33m\u001b[0m\u001b[0m\n\u001b[1;32m----> 3\u001b[1;33m \u001b[1;32mfor\u001b[0m \u001b[0mkey\u001b[0m \u001b[1;32min\u001b[0m \u001b[0mjsonobj\u001b[0m\u001b[1;33m[\u001b[0m\u001b[1;34m'items'\u001b[0m\u001b[1;33m]\u001b[0m\u001b[1;33m:\u001b[0m\u001b[1;33m\u001b[0m\u001b[1;33m\u001b[0m\u001b[0m\n\u001b[0m\u001b[0;32m      4\u001b[0m     \u001b[0mkeylist\u001b[0m\u001b[1;33m.\u001b[0m\u001b[0mappend\u001b[0m\u001b[1;33m(\u001b[0m\u001b[0mkey\u001b[0m\u001b[1;33m)\u001b[0m\u001b[1;33m\u001b[0m\u001b[1;33m\u001b[0m\u001b[0m\n",
      "\u001b[1;31mNameError\u001b[0m: name 'jsonobj' is not defined"
     ]
    }
   ],
   "source": [
    "display(HTML(toggle_code_str))\n",
    "keylist = []\n",
    "for key in jsonobj['items']:\n",
    "    keylist.append(key)"
   ]
  },
  {
   "cell_type": "code",
   "execution_count": 138,
   "metadata": {},
   "outputs": [
    {
     "data": {
      "text/html": [
       "\n",
       "<form action=\"javascript:code_toggle()\"><input type=\"submit\" id=\"toggleButton\" value=\"Hide Code\"></form>\n"
      ],
      "text/plain": [
       "<IPython.core.display.HTML object>"
      ]
     },
     "metadata": {},
     "output_type": "display_data"
    },
    {
     "data": {
      "text/plain": [
       "'\\n\\nf = csv.writer(open(\"test.csv\", \"w\"))\\nf.writerow(keylist)\\n\\n#Iterate through each record in the JSON Array\\nfor record in jsonobj:\\nCreate placeholder to hold the data for the current record\\n    currentrecord = []\\n#Iterate through each key in the keylist and add the data to our current record list\\nfor key in keylist:\\n    currentrecord.append(record[key])\\n\\n    #Write the current record as a line in our CSV\\nf.writerow(currentrecord)\\n\\n'"
      ]
     },
     "execution_count": 138,
     "metadata": {},
     "output_type": "execute_result"
    }
   ],
   "source": [
    "display(HTML(toggle_code_str))\n",
    "'''\n",
    "\n",
    "f = csv.writer(open(\"test.csv\", \"w\"))\n",
    "f.writerow(keylist)\n",
    "\n",
    "#Iterate through each record in the JSON Array\n",
    "for record in jsonobj:\n",
    "Create placeholder to hold the data for the current record\n",
    "    currentrecord = []\n",
    "#Iterate through each key in the keylist and add the data to our current record list\n",
    "for key in keylist:\n",
    "    currentrecord.append(record[key])\n",
    "\n",
    "    #Write the current record as a line in our CSV\n",
    "f.writerow(currentrecord)\n",
    "\n",
    "'''"
   ]
  },
  {
   "cell_type": "code",
   "execution_count": 137,
   "metadata": {},
   "outputs": [
    {
     "data": {
      "text/html": [
       "\n",
       "<form action=\"javascript:code_toggle()\"><input type=\"submit\" id=\"toggleButton\" value=\"Hide Code\"></form>\n"
      ],
      "text/plain": [
       "<IPython.core.display.HTML object>"
      ]
     },
     "metadata": {},
     "output_type": "display_data"
    },
    {
     "data": {
      "text/html": [
       "<div>\n",
       "<style scoped>\n",
       "    .dataframe tbody tr th:only-of-type {\n",
       "        vertical-align: middle;\n",
       "    }\n",
       "\n",
       "    .dataframe tbody tr th {\n",
       "        vertical-align: top;\n",
       "    }\n",
       "\n",
       "    .dataframe thead th {\n",
       "        text-align: right;\n",
       "    }\n",
       "</style>\n",
       "<table border=\"1\" class=\"dataframe\">\n",
       "  <thead>\n",
       "    <tr style=\"text-align: right;\">\n",
       "      <th></th>\n",
       "      <th>kind</th>\n",
       "      <th>etag</th>\n",
       "      <th>id</th>\n",
       "      <th>snippet/channelId</th>\n",
       "      <th>snippet/title</th>\n",
       "      <th>snippet/assignable</th>\n",
       "    </tr>\n",
       "  </thead>\n",
       "  <tbody>\n",
       "    <tr>\n",
       "      <th>0</th>\n",
       "      <td>youtube#videoCategory</td>\n",
       "      <td>\"m2yskBQFythfE4irbTIeOgYYfBU/Xy1mB4_yLrHy_BmKm...</td>\n",
       "      <td>1</td>\n",
       "      <td>UCBR8-60-B28hp2BmDPdntcQ</td>\n",
       "      <td>Film &amp; Animation</td>\n",
       "      <td>True</td>\n",
       "    </tr>\n",
       "    <tr>\n",
       "      <th>1</th>\n",
       "      <td>youtube#videoCategory</td>\n",
       "      <td>\"m2yskBQFythfE4irbTIeOgYYfBU/UZ1oLIIz2dxIhO45Z...</td>\n",
       "      <td>2</td>\n",
       "      <td>UCBR8-60-B28hp2BmDPdntcQ</td>\n",
       "      <td>Autos &amp; Vehicles</td>\n",
       "      <td>True</td>\n",
       "    </tr>\n",
       "    <tr>\n",
       "      <th>2</th>\n",
       "      <td>youtube#videoCategory</td>\n",
       "      <td>\"m2yskBQFythfE4irbTIeOgYYfBU/nqRIq97-xe5XRZTxb...</td>\n",
       "      <td>10</td>\n",
       "      <td>UCBR8-60-B28hp2BmDPdntcQ</td>\n",
       "      <td>Music</td>\n",
       "      <td>True</td>\n",
       "    </tr>\n",
       "    <tr>\n",
       "      <th>3</th>\n",
       "      <td>youtube#videoCategory</td>\n",
       "      <td>\"m2yskBQFythfE4irbTIeOgYYfBU/HwXKamM1Q20q9BN-o...</td>\n",
       "      <td>15</td>\n",
       "      <td>UCBR8-60-B28hp2BmDPdntcQ</td>\n",
       "      <td>Pets &amp; Animals</td>\n",
       "      <td>True</td>\n",
       "    </tr>\n",
       "    <tr>\n",
       "      <th>4</th>\n",
       "      <td>youtube#videoCategory</td>\n",
       "      <td>\"m2yskBQFythfE4irbTIeOgYYfBU/9GQMSRjrZdHeb1OEM...</td>\n",
       "      <td>17</td>\n",
       "      <td>UCBR8-60-B28hp2BmDPdntcQ</td>\n",
       "      <td>Sports</td>\n",
       "      <td>True</td>\n",
       "    </tr>\n",
       "  </tbody>\n",
       "</table>\n",
       "</div>"
      ],
      "text/plain": [
       "                    kind                                               etag  \\\n",
       "0  youtube#videoCategory  \"m2yskBQFythfE4irbTIeOgYYfBU/Xy1mB4_yLrHy_BmKm...   \n",
       "1  youtube#videoCategory  \"m2yskBQFythfE4irbTIeOgYYfBU/UZ1oLIIz2dxIhO45Z...   \n",
       "2  youtube#videoCategory  \"m2yskBQFythfE4irbTIeOgYYfBU/nqRIq97-xe5XRZTxb...   \n",
       "3  youtube#videoCategory  \"m2yskBQFythfE4irbTIeOgYYfBU/HwXKamM1Q20q9BN-o...   \n",
       "4  youtube#videoCategory  \"m2yskBQFythfE4irbTIeOgYYfBU/9GQMSRjrZdHeb1OEM...   \n",
       "\n",
       "   id         snippet/channelId     snippet/title  snippet/assignable  \n",
       "0   1  UCBR8-60-B28hp2BmDPdntcQ  Film & Animation                True  \n",
       "1   2  UCBR8-60-B28hp2BmDPdntcQ  Autos & Vehicles                True  \n",
       "2  10  UCBR8-60-B28hp2BmDPdntcQ             Music                True  \n",
       "3  15  UCBR8-60-B28hp2BmDPdntcQ    Pets & Animals                True  \n",
       "4  17  UCBR8-60-B28hp2BmDPdntcQ            Sports                True  "
      ]
     },
     "execution_count": 137,
     "metadata": {},
     "output_type": "execute_result"
    }
   ],
   "source": [
    "display(HTML(toggle_code_str))\n",
    "CategoryCSV = pd.read_csv(\"Data/convertcsv.csv\")\n",
    "CategoryCSV.head()"
   ]
  },
  {
   "cell_type": "markdown",
   "metadata": {},
   "source": [
    "The results above shows the labels for each category id as 'snippet/title'. The next step will be to rename the 'id' column to 'category_id' so it can be merged to the USATrendingVideos dataframe. All the other columns can be dropped as they are not required for the purposes of this project. Furthermore, another step for the data exploration is to count how many categories there are just to keep them in mind."
   ]
  },
  {
   "cell_type": "code",
   "execution_count": 135,
   "metadata": {},
   "outputs": [
    {
     "data": {
      "text/html": [
       "\n",
       "<form action=\"javascript:code_toggle()\"><input type=\"submit\" id=\"toggleButton\" value=\"Hide Code\"></form>\n"
      ],
      "text/plain": [
       "<IPython.core.display.HTML object>"
      ]
     },
     "metadata": {},
     "output_type": "display_data"
    }
   ],
   "source": [
    "display(HTML(toggle_code_str))\n",
    "CategoryCSV = CategoryCSV.rename(columns={'id': 'category_id'})\n",
    "CategoryCSV = CategoryCSV.rename(columns={'snippet/title': 'category_name'})"
   ]
  },
  {
   "cell_type": "code",
   "execution_count": 136,
   "metadata": {},
   "outputs": [
    {
     "data": {
      "text/html": [
       "\n",
       "<form action=\"javascript:code_toggle()\"><input type=\"submit\" id=\"toggleButton\" value=\"Hide Code\"></form>\n"
      ],
      "text/plain": [
       "<IPython.core.display.HTML object>"
      ]
     },
     "metadata": {},
     "output_type": "display_data"
    },
    {
     "name": "stdout",
     "output_type": "stream",
     "text": [
      "Shape of data: (32, 6)\n"
     ]
    }
   ],
   "source": [
    "display(HTML(toggle_code_str))\n",
    "print(\"Shape of data: {}\".format(CategoryCSV.shape))"
   ]
  },
  {
   "cell_type": "markdown",
   "metadata": {},
   "source": [
    "### Final Data"
   ]
  },
  {
   "cell_type": "code",
   "execution_count": 134,
   "metadata": {},
   "outputs": [
    {
     "data": {
      "text/html": [
       "\n",
       "<form action=\"javascript:code_toggle()\"><input type=\"submit\" id=\"toggleButton\" value=\"Hide Code\"></form>\n"
      ],
      "text/plain": [
       "<IPython.core.display.HTML object>"
      ]
     },
     "metadata": {},
     "output_type": "display_data"
    }
   ],
   "source": [
    "display(HTML(toggle_code_str))\n",
    "USATrendingVideos_v2 = pd.merge(USATrendingVideos,CategoryCSV,how=\"left\",on=\"category_id\")"
   ]
  },
  {
   "cell_type": "code",
   "execution_count": 142,
   "metadata": {},
   "outputs": [
    {
     "data": {
      "text/html": [
       "\n",
       "<form action=\"javascript:code_toggle()\"><input type=\"submit\" id=\"toggleButton\" value=\"Hide Code\"></form>\n"
      ],
      "text/plain": [
       "<IPython.core.display.HTML object>"
      ]
     },
     "metadata": {},
     "output_type": "display_data"
    }
   ],
   "source": [
    "display(HTML(toggle_code_str))\n",
    "#USATrendingVideos_v2 = USATrendingVideos_v2.drop(['kind','etag',\n",
    "#                      'snippet/channelId', 'snippet/assignable'], axis= 1)"
   ]
  },
  {
   "cell_type": "code",
   "execution_count": 132,
   "metadata": {},
   "outputs": [
    {
     "data": {
      "text/html": [
       "\n",
       "<form action=\"javascript:code_toggle()\"><input type=\"submit\" id=\"toggleButton\" value=\"Hide Code\"></form>\n"
      ],
      "text/plain": [
       "<IPython.core.display.HTML object>"
      ]
     },
     "metadata": {},
     "output_type": "display_data"
    },
    {
     "data": {
      "text/html": [
       "<div>\n",
       "<style scoped>\n",
       "    .dataframe tbody tr th:only-of-type {\n",
       "        vertical-align: middle;\n",
       "    }\n",
       "\n",
       "    .dataframe tbody tr th {\n",
       "        vertical-align: top;\n",
       "    }\n",
       "\n",
       "    .dataframe thead th {\n",
       "        text-align: right;\n",
       "    }\n",
       "</style>\n",
       "<table border=\"1\" class=\"dataframe\">\n",
       "  <thead>\n",
       "    <tr style=\"text-align: right;\">\n",
       "      <th></th>\n",
       "      <th>video_id</th>\n",
       "      <th>trending_date</th>\n",
       "      <th>title</th>\n",
       "      <th>channel_title</th>\n",
       "      <th>category_id</th>\n",
       "      <th>publish_time</th>\n",
       "      <th>views</th>\n",
       "      <th>likes</th>\n",
       "      <th>dislikes</th>\n",
       "      <th>comment_count</th>\n",
       "      <th>publish_date</th>\n",
       "      <th>category_name</th>\n",
       "    </tr>\n",
       "  </thead>\n",
       "  <tbody>\n",
       "    <tr>\n",
       "      <th>0</th>\n",
       "      <td>8O-ZUXGcuWU</td>\n",
       "      <td>2018-06-14</td>\n",
       "      <td>Nintendo @ E3 2018: Day 2</td>\n",
       "      <td>Nintendo</td>\n",
       "      <td>20</td>\n",
       "      <td>01:31:53.000</td>\n",
       "      <td>1549110</td>\n",
       "      <td>21905</td>\n",
       "      <td>1516</td>\n",
       "      <td>1318</td>\n",
       "      <td>2018-06-14</td>\n",
       "      <td>Gaming</td>\n",
       "    </tr>\n",
       "    <tr>\n",
       "      <th>1</th>\n",
       "      <td>Gi56dSh8Fq8</td>\n",
       "      <td>2018-06-14</td>\n",
       "      <td>Gourmet Chef Makes A Big Mac Super Fancy</td>\n",
       "      <td>BuzzFeedVideo</td>\n",
       "      <td>22</td>\n",
       "      <td>18:00:32.000</td>\n",
       "      <td>402418</td>\n",
       "      <td>10070</td>\n",
       "      <td>3303</td>\n",
       "      <td>2142</td>\n",
       "      <td>2018-06-13</td>\n",
       "      <td>People &amp; Blogs</td>\n",
       "    </tr>\n",
       "    <tr>\n",
       "      <th>2</th>\n",
       "      <td>-9rdDeWzvsU</td>\n",
       "      <td>2018-06-14</td>\n",
       "      <td>Stampede - Alexander Jean Ft. Lindsey Stirling</td>\n",
       "      <td>Lindsey Stirling</td>\n",
       "      <td>10</td>\n",
       "      <td>16:00:24.000</td>\n",
       "      <td>296615</td>\n",
       "      <td>38671</td>\n",
       "      <td>463</td>\n",
       "      <td>2348</td>\n",
       "      <td>2018-06-13</td>\n",
       "      <td>Music</td>\n",
       "    </tr>\n",
       "    <tr>\n",
       "      <th>3</th>\n",
       "      <td>MrMAfMbZOmg</td>\n",
       "      <td>2018-06-14</td>\n",
       "      <td>Troye Sivan - Dance To This (Official Audio) f...</td>\n",
       "      <td>TroyeSivanVEVO</td>\n",
       "      <td>10</td>\n",
       "      <td>16:00:01.000</td>\n",
       "      <td>1473589</td>\n",
       "      <td>214511</td>\n",
       "      <td>2011</td>\n",
       "      <td>17455</td>\n",
       "      <td>2018-06-13</td>\n",
       "      <td>Music</td>\n",
       "    </tr>\n",
       "    <tr>\n",
       "      <th>4</th>\n",
       "      <td>JGm9Y_hFqNk</td>\n",
       "      <td>2018-06-14</td>\n",
       "      <td>First Take reacts: Kyrie Irving says contract ...</td>\n",
       "      <td>ESPN</td>\n",
       "      <td>17</td>\n",
       "      <td>15:06:08.000</td>\n",
       "      <td>812832</td>\n",
       "      <td>7701</td>\n",
       "      <td>320</td>\n",
       "      <td>2505</td>\n",
       "      <td>2018-06-13</td>\n",
       "      <td>Sports</td>\n",
       "    </tr>\n",
       "  </tbody>\n",
       "</table>\n",
       "</div>"
      ],
      "text/plain": [
       "      video_id trending_date  \\\n",
       "0  8O-ZUXGcuWU    2018-06-14   \n",
       "1  Gi56dSh8Fq8    2018-06-14   \n",
       "2  -9rdDeWzvsU    2018-06-14   \n",
       "3  MrMAfMbZOmg    2018-06-14   \n",
       "4  JGm9Y_hFqNk    2018-06-14   \n",
       "\n",
       "                                               title     channel_title  \\\n",
       "0                          Nintendo @ E3 2018: Day 2          Nintendo   \n",
       "1           Gourmet Chef Makes A Big Mac Super Fancy     BuzzFeedVideo   \n",
       "2     Stampede - Alexander Jean Ft. Lindsey Stirling  Lindsey Stirling   \n",
       "3  Troye Sivan - Dance To This (Official Audio) f...    TroyeSivanVEVO   \n",
       "4  First Take reacts: Kyrie Irving says contract ...              ESPN   \n",
       "\n",
       "   category_id  publish_time    views   likes  dislikes  comment_count  \\\n",
       "0           20  01:31:53.000  1549110   21905      1516           1318   \n",
       "1           22  18:00:32.000   402418   10070      3303           2142   \n",
       "2           10  16:00:24.000   296615   38671       463           2348   \n",
       "3           10  16:00:01.000  1473589  214511      2011          17455   \n",
       "4           17  15:06:08.000   812832    7701       320           2505   \n",
       "\n",
       "  publish_date   category_name  \n",
       "0   2018-06-14          Gaming  \n",
       "1   2018-06-13  People & Blogs  \n",
       "2   2018-06-13           Music  \n",
       "3   2018-06-13           Music  \n",
       "4   2018-06-13          Sports  "
      ]
     },
     "execution_count": 132,
     "metadata": {},
     "output_type": "execute_result"
    }
   ],
   "source": [
    "display(HTML(toggle_code_str))\n",
    "USATrendingVideos_v2.head()"
   ]
  },
  {
   "cell_type": "code",
   "execution_count": 131,
   "metadata": {},
   "outputs": [
    {
     "data": {
      "text/html": [
       "\n",
       "<form action=\"javascript:code_toggle()\"><input type=\"submit\" id=\"toggleButton\" value=\"Hide Code\"></form>\n"
      ],
      "text/plain": [
       "<IPython.core.display.HTML object>"
      ]
     },
     "metadata": {},
     "output_type": "display_data"
    },
    {
     "name": "stdout",
     "output_type": "stream",
     "text": [
      "Shape of data: (40949, 12)\n"
     ]
    }
   ],
   "source": [
    "display(HTML(toggle_code_str))\n",
    "print(\"Shape of data: {}\".format(USATrendingVideos_v2.shape))"
   ]
  },
  {
   "cell_type": "markdown",
   "metadata": {},
   "source": [
    "The dataset can confuse someone because video can be classified as trending at different time periods after it was first published. Let's take the video title \"maybe i could eat blades of grass\" by bill wurtz."
   ]
  },
  {
   "cell_type": "markdown",
   "metadata": {},
   "source": [
    "# Data Analysis"
   ]
  },
  {
   "cell_type": "markdown",
   "metadata": {},
   "source": [
    "## Choosing Hyperparameters"
   ]
  },
  {
   "cell_type": "markdown",
   "metadata": {},
   "source": [
    "Continuing, for this project I will take a closer look and gain better insight at the columns and see which properties of the data can be essential to predicting trending before they are prossed. Before they are processed, these proporties are called hyperparameters in Machine Learning. A model hyperparameter is a configuration that is external to the model and whose value cannot be estimated from data (Brownlee). On his Machine Learning blogpost, Jason Brownlee gives the following description to hyperparameters: \n",
    "* They are required by the model when making predictions. \n",
    "* They values define the skill of the model on your problem.\n",
    "* They are estimated or learned from data.\n",
    "* They are often not set manually by the practitioner.\n",
    "* They are often saved as part of the learned model."
   ]
  },
  {
   "cell_type": "code",
   "execution_count": 130,
   "metadata": {},
   "outputs": [
    {
     "data": {
      "text/html": [
       "\n",
       "<form action=\"javascript:code_toggle()\"><input type=\"submit\" id=\"toggleButton\" value=\"Hide Code\"></form>\n"
      ],
      "text/plain": [
       "<IPython.core.display.HTML object>"
      ]
     },
     "metadata": {},
     "output_type": "display_data"
    },
    {
     "name": "stdout",
     "output_type": "stream",
     "text": [
      "      trending_date                              title    views\n",
      "25019    2018-02-06  maybe i could eat blades of grass  1578774\n",
      "25020    2018-02-05  maybe i could eat blades of grass  1514664\n",
      "25021    2018-02-04  maybe i could eat blades of grass  1458382\n",
      "25022    2018-02-03  maybe i could eat blades of grass  1371619\n",
      "25023    2018-02-02  maybe i could eat blades of grass  1256855\n",
      "25024    2018-02-01  maybe i could eat blades of grass   996318\n"
     ]
    }
   ],
   "source": [
    "display(HTML(toggle_code_str))\n",
    "EatGrass = USATrendingVideos_v2.loc[USATrendingVideos_v2['title'] == 'maybe i could eat blades of grass']\n",
    "print(EatGrass[['trending_date', 'title', 'views']])"
   ]
  },
  {
   "cell_type": "markdown",
   "metadata": {},
   "source": [
    "The results above imply that a video is inserted into the trending data every 24 hours. In this case, the video called \"maybe i could eat blades of grass\" was categorized as trending for 6 straight days. In order to grab numerical hyperparameters such as views and likes, all we need to do is group each video by title & video_id then grab the most recent value for the mentioned."
   ]
  },
  {
   "cell_type": "code",
   "execution_count": 129,
   "metadata": {},
   "outputs": [
    {
     "data": {
      "text/html": [
       "\n",
       "<form action=\"javascript:code_toggle()\"><input type=\"submit\" id=\"toggleButton\" value=\"Hide Code\"></form>\n"
      ],
      "text/plain": [
       "<IPython.core.display.HTML object>"
      ]
     },
     "metadata": {},
     "output_type": "display_data"
    }
   ],
   "source": [
    "display(HTML(toggle_code_str))\n",
    "FinalData = USATrendingVideos_v2.drop_duplicates(subset=['title'], keep='first', inplace=False)"
   ]
  },
  {
   "cell_type": "code",
   "execution_count": 128,
   "metadata": {},
   "outputs": [
    {
     "data": {
      "text/html": [
       "\n",
       "<form action=\"javascript:code_toggle()\"><input type=\"submit\" id=\"toggleButton\" value=\"Hide Code\"></form>\n"
      ],
      "text/plain": [
       "<IPython.core.display.HTML object>"
      ]
     },
     "metadata": {},
     "output_type": "display_data"
    },
    {
     "name": "stdout",
     "output_type": "stream",
     "text": [
      "The final dataset contains (6455, 12) videos\n"
     ]
    }
   ],
   "source": [
    "display(HTML(toggle_code_str))\n",
    "print(\"The final dataset contains {} videos\".format(FinalData.shape))"
   ]
  },
  {
   "cell_type": "code",
   "execution_count": 127,
   "metadata": {},
   "outputs": [
    {
     "data": {
      "text/html": [
       "\n",
       "<form action=\"javascript:code_toggle()\"><input type=\"submit\" id=\"toggleButton\" value=\"Hide Code\"></form>\n"
      ],
      "text/plain": [
       "<IPython.core.display.HTML object>"
      ]
     },
     "metadata": {},
     "output_type": "display_data"
    },
    {
     "name": "stdout",
     "output_type": "stream",
     "text": [
      "      trending_date                              title    views\n",
      "25019    2018-02-06  maybe i could eat blades of grass  1578774\n"
     ]
    }
   ],
   "source": [
    "display(HTML(toggle_code_str))\n",
    "# Here we are testing if the final data set contains only the values of the last trending day.\n",
    "result =  pd.DataFrame(FinalData)\n",
    "result1 = FinalData.loc[FinalData['title'] == 'maybe i could eat blades of grass']\n",
    "print(result1[['trending_date', 'title', 'views']])"
   ]
  },
  {
   "cell_type": "code",
   "execution_count": 126,
   "metadata": {},
   "outputs": [
    {
     "data": {
      "text/html": [
       "\n",
       "<form action=\"javascript:code_toggle()\"><input type=\"submit\" id=\"toggleButton\" value=\"Hide Code\"></form>\n"
      ],
      "text/plain": [
       "<IPython.core.display.HTML object>"
      ]
     },
     "metadata": {},
     "output_type": "display_data"
    },
    {
     "name": "stdout",
     "output_type": "stream",
     "text": [
      "USATrendingVideos version 2 contains 40949 videos\n",
      "While the final dataset contains 6455 videos\n"
     ]
    }
   ],
   "source": [
    "display(HTML(toggle_code_str))\n",
    "# Comparing the amount of videos for each data set\n",
    "print(\"USATrendingVideos version 2 contains {} videos\".format(USATrendingVideos_v2.shape[0]))\n",
    "print(\"While the final dataset contains {} videos\".format(FinalData.shape[0]))"
   ]
  },
  {
   "cell_type": "markdown",
   "metadata": {},
   "source": [
    "## Correlation Analysis"
   ]
  },
  {
   "cell_type": "markdown",
   "metadata": {},
   "source": [
    "Below is a correlation heat map for the data that still contained multiple trending dates for each video."
   ]
  },
  {
   "cell_type": "code",
   "execution_count": 125,
   "metadata": {},
   "outputs": [
    {
     "data": {
      "text/html": [
       "\n",
       "<form action=\"javascript:code_toggle()\"><input type=\"submit\" id=\"toggleButton\" value=\"Hide Code\"></form>\n"
      ],
      "text/plain": [
       "<IPython.core.display.HTML object>"
      ]
     },
     "metadata": {},
     "output_type": "display_data"
    },
    {
     "data": {
      "image/png": "[encoded data removed]",
      "text/plain": [
       "<Figure size 640x480 with 2 Axes>"
      ]
     },
     "metadata": {},
     "output_type": "display_data"
    }
   ],
   "source": [
    "display(HTML(toggle_code_str))\n",
    "with plt.style.context(('ggplot')):\n",
    "    sns.heatmap(USATrendingVideos_v2.corr(), \n",
    "                cmap='coolwarm',\n",
    "                cbar=True, annot=True, \n",
    "                square=True, fmt='.2f', annot_kws={'size':10})"
   ]
  },
  {
   "cell_type": "code",
   "execution_count": 124,
   "metadata": {},
   "outputs": [
    {
     "data": {
      "text/html": [
       "\n",
       "<form action=\"javascript:code_toggle()\"><input type=\"submit\" id=\"toggleButton\" value=\"Hide Code\"></form>\n"
      ],
      "text/plain": [
       "<IPython.core.display.HTML object>"
      ]
     },
     "metadata": {},
     "output_type": "display_data"
    },
    {
     "data": {
      "text/plain": [
       "views            1.000000\n",
       "likes            0.849177\n",
       "comment_count    0.617621\n",
       "dislikes         0.472213\n",
       "category_id     -0.168231\n",
       "Name: views, dtype: float64"
      ]
     },
     "execution_count": 124,
     "metadata": {},
     "output_type": "execute_result"
    }
   ],
   "source": [
    "display(HTML(toggle_code_str))\n",
    "corr_matrix\t=\tUSATrendingVideos_v2.corr()\n",
    "corr_matrix[\"views\"].sort_values(ascending=False) "
   ]
  },
  {
   "cell_type": "code",
   "execution_count": 123,
   "metadata": {},
   "outputs": [
    {
     "data": {
      "text/html": [
       "\n",
       "<form action=\"javascript:code_toggle()\"><input type=\"submit\" id=\"toggleButton\" value=\"Hide Code\"></form>\n"
      ],
      "text/plain": [
       "<IPython.core.display.HTML object>"
      ]
     },
     "metadata": {},
     "output_type": "display_data"
    },
    {
     "data": {
      "text/plain": [
       "likes            1.000000\n",
       "views            0.849177\n",
       "comment_count    0.803057\n",
       "dislikes         0.447186\n",
       "category_id     -0.173921\n",
       "Name: likes, dtype: float64"
      ]
     },
     "execution_count": 123,
     "metadata": {},
     "output_type": "execute_result"
    }
   ],
   "source": [
    "display(HTML(toggle_code_str))\n",
    "corr_matrix[\"likes\"].sort_values(ascending=False) "
   ]
  },
  {
   "cell_type": "markdown",
   "metadata": {},
   "source": [
    "Below is a correlation heatmap for the data that had only contained the last trending day for each video."
   ]
  },
  {
   "cell_type": "code",
   "execution_count": 122,
   "metadata": {},
   "outputs": [
    {
     "data": {
      "text/html": [
       "\n",
       "<form action=\"javascript:code_toggle()\"><input type=\"submit\" id=\"toggleButton\" value=\"Hide Code\"></form>\n"
      ],
      "text/plain": [
       "<IPython.core.display.HTML object>"
      ]
     },
     "metadata": {},
     "output_type": "display_data"
    },
    {
     "data": {
      "image/png": "[encoded data removed]",
      "text/plain": [
       "<Figure size 640x480 with 2 Axes>"
      ]
     },
     "metadata": {},
     "output_type": "display_data"
    }
   ],
   "source": [
    "display(HTML(toggle_code_str))\n",
    "with plt.style.context(('ggplot')):\n",
    "    sns.heatmap(FinalData.corr(), \n",
    "                cmap='coolwarm',\n",
    "                cbar=True, annot=True, \n",
    "                square=True, fmt='.2f', annot_kws={'size':10})"
   ]
  },
  {
   "cell_type": "code",
   "execution_count": 121,
   "metadata": {},
   "outputs": [
    {
     "data": {
      "text/html": [
       "\n",
       "<form action=\"javascript:code_toggle()\"><input type=\"submit\" id=\"toggleButton\" value=\"Hide Code\"></form>\n"
      ],
      "text/plain": [
       "<IPython.core.display.HTML object>"
      ]
     },
     "metadata": {},
     "output_type": "display_data"
    },
    {
     "data": {
      "text/plain": [
       "views            1.000000\n",
       "likes            0.832950\n",
       "comment_count    0.601737\n",
       "dislikes         0.469462\n",
       "category_id     -0.144558\n",
       "Name: views, dtype: float64"
      ]
     },
     "execution_count": 121,
     "metadata": {},
     "output_type": "execute_result"
    }
   ],
   "source": [
    "display(HTML(toggle_code_str))\n",
    "corr_matrix2 = FinalData.corr()\n",
    "corr_matrix2[\"views\"].sort_values(ascending=False)"
   ]
  },
  {
   "cell_type": "code",
   "execution_count": 120,
   "metadata": {},
   "outputs": [
    {
     "data": {
      "text/html": [
       "\n",
       "<form action=\"javascript:code_toggle()\"><input type=\"submit\" id=\"toggleButton\" value=\"Hide Code\"></form>\n"
      ],
      "text/plain": [
       "<IPython.core.display.HTML object>"
      ]
     },
     "metadata": {},
     "output_type": "display_data"
    },
    {
     "data": {
      "text/plain": [
       "likes            1.000000\n",
       "views            0.832950\n",
       "comment_count    0.771800\n",
       "dislikes         0.421522\n",
       "category_id     -0.147965\n",
       "Name: likes, dtype: float64"
      ]
     },
     "execution_count": 120,
     "metadata": {},
     "output_type": "execute_result"
    }
   ],
   "source": [
    "display(HTML(toggle_code_str))\n",
    "corr_matrix2[\"likes\"].sort_values(ascending=False)"
   ]
  },
  {
   "cell_type": "markdown",
   "metadata": {},
   "source": [
    "### Comments:\n",
    "We can see that removing the duplicate values for videos that trended multiple times did not have a huge impact as far as which hyperparameters correlated with the other ones, although the actual values differended slightly it is not much of a concern. For example the correlation between the likes and views went from .85 to .83 which is not a big deal. Furthermore, when looking at the correlation between dislikes and views, the value is at a neutral 0.47 for both datasets. The only conclusion that can be drawn from the two aformentioned numbers is that while a video trends and gets more views, viewers are more likely to like the video that dislike the video. If a viewer actually does not like a video they might simply watch another video and not click on the 'dislike' button. The correlaltions closets to 0 are all related to category_id, implying that the Youtube alorigthm does not lean towards putting a certain category as trending over another. "
   ]
  },
  {
   "cell_type": "markdown",
   "metadata": {},
   "source": [
    "### Top 5 Views\n",
    "The first hyperparameter when thinking about a Youtube video is the amount of views it gets. Here we are getting the videos with the top 5 most views out of all the videos that trended."
   ]
  },
  {
   "cell_type": "code",
   "execution_count": 119,
   "metadata": {},
   "outputs": [
    {
     "data": {
      "text/html": [
       "\n",
       "<form action=\"javascript:code_toggle()\"><input type=\"submit\" id=\"toggleButton\" value=\"Hide Code\"></form>\n"
      ],
      "text/plain": [
       "<IPython.core.display.HTML object>"
      ]
     },
     "metadata": {},
     "output_type": "display_data"
    },
    {
     "data": {
      "text/html": [
       "<div>\n",
       "<style scoped>\n",
       "    .dataframe tbody tr th:only-of-type {\n",
       "        vertical-align: middle;\n",
       "    }\n",
       "\n",
       "    .dataframe tbody tr th {\n",
       "        vertical-align: top;\n",
       "    }\n",
       "\n",
       "    .dataframe thead th {\n",
       "        text-align: right;\n",
       "    }\n",
       "</style>\n",
       "<table border=\"1\" class=\"dataframe\">\n",
       "  <thead>\n",
       "    <tr style=\"text-align: right;\">\n",
       "      <th></th>\n",
       "      <th>trending_date</th>\n",
       "      <th>title</th>\n",
       "      <th>views</th>\n",
       "    </tr>\n",
       "  </thead>\n",
       "  <tbody>\n",
       "    <tr>\n",
       "      <th>6092</th>\n",
       "      <td>2018-05-31</td>\n",
       "      <td>Childish Gambino - This Is America (Official V...</td>\n",
       "      <td>217750076</td>\n",
       "    </tr>\n",
       "    <tr>\n",
       "      <th>35389</th>\n",
       "      <td>2017-12-14</td>\n",
       "      <td>YouTube Rewind: The Shape of 2017 | #YouTubeRe...</td>\n",
       "      <td>149376127</td>\n",
       "    </tr>\n",
       "    <tr>\n",
       "      <th>3195</th>\n",
       "      <td>2018-05-31</td>\n",
       "      <td>BTS (방탄소년단) 'FAKE LOVE' Official MV</td>\n",
       "      <td>121219886</td>\n",
       "    </tr>\n",
       "    <tr>\n",
       "      <th>39179</th>\n",
       "      <td>2017-11-26</td>\n",
       "      <td>Luis Fonsi, Demi Lovato - Échame La Culpa</td>\n",
       "      <td>102012605</td>\n",
       "    </tr>\n",
       "    <tr>\n",
       "      <th>16682</th>\n",
       "      <td>2018-03-25</td>\n",
       "      <td>Maluma - El Préstamo (Official Video)</td>\n",
       "      <td>87264467</td>\n",
       "    </tr>\n",
       "  </tbody>\n",
       "</table>\n",
       "</div>"
      ],
      "text/plain": [
       "      trending_date                                              title  \\\n",
       "6092     2018-05-31  Childish Gambino - This Is America (Official V...   \n",
       "35389    2017-12-14  YouTube Rewind: The Shape of 2017 | #YouTubeRe...   \n",
       "3195     2018-05-31                BTS (방탄소년단) 'FAKE LOVE' Official MV   \n",
       "39179    2017-11-26          Luis Fonsi, Demi Lovato - Échame La Culpa   \n",
       "16682    2018-03-25              Maluma - El Préstamo (Official Video)   \n",
       "\n",
       "           views  \n",
       "6092   217750076  \n",
       "35389  149376127  \n",
       "3195   121219886  \n",
       "39179  102012605  \n",
       "16682   87264467  "
      ]
     },
     "execution_count": 119,
     "metadata": {},
     "output_type": "execute_result"
    }
   ],
   "source": [
    "display(HTML(toggle_code_str))\n",
    "# This code groups video_id, title for getting likes of each video at the last day of trending\n",
    "FinalData.sort_values(\"views\", ascending = False)[['trending_date', 'title', 'views']].head()"
   ]
  },
  {
   "cell_type": "markdown",
   "metadata": {},
   "source": [
    "### Top 5 Liked\n",
    "The next hyperparameter one would think about for a Youtube videos is the amount of likes. Here we are getting the videos with the top 5 most likes out of all the videos that trended."
   ]
  },
  {
   "cell_type": "code",
   "execution_count": 118,
   "metadata": {},
   "outputs": [
    {
     "data": {
      "text/html": [
       "\n",
       "<form action=\"javascript:code_toggle()\"><input type=\"submit\" id=\"toggleButton\" value=\"Hide Code\"></form>\n"
      ],
      "text/plain": [
       "<IPython.core.display.HTML object>"
      ]
     },
     "metadata": {},
     "output_type": "display_data"
    },
    {
     "data": {
      "text/html": [
       "<div>\n",
       "<style scoped>\n",
       "    .dataframe tbody tr th:only-of-type {\n",
       "        vertical-align: middle;\n",
       "    }\n",
       "\n",
       "    .dataframe tbody tr th {\n",
       "        vertical-align: top;\n",
       "    }\n",
       "\n",
       "    .dataframe thead th {\n",
       "        text-align: right;\n",
       "    }\n",
       "</style>\n",
       "<table border=\"1\" class=\"dataframe\">\n",
       "  <thead>\n",
       "    <tr style=\"text-align: right;\">\n",
       "      <th></th>\n",
       "      <th>trending_date</th>\n",
       "      <th>title</th>\n",
       "      <th>likes</th>\n",
       "    </tr>\n",
       "  </thead>\n",
       "  <tbody>\n",
       "    <tr>\n",
       "      <th>3195</th>\n",
       "      <td>2018-05-31</td>\n",
       "      <td>BTS (방탄소년단) 'FAKE LOVE' Official MV</td>\n",
       "      <td>5595203</td>\n",
       "    </tr>\n",
       "    <tr>\n",
       "      <th>6092</th>\n",
       "      <td>2018-05-31</td>\n",
       "      <td>Childish Gambino - This Is America (Official V...</td>\n",
       "      <td>4934188</td>\n",
       "    </tr>\n",
       "    <tr>\n",
       "      <th>35389</th>\n",
       "      <td>2017-12-14</td>\n",
       "      <td>YouTube Rewind: The Shape of 2017 | #YouTubeRe...</td>\n",
       "      <td>3093544</td>\n",
       "    </tr>\n",
       "    <tr>\n",
       "      <th>6028</th>\n",
       "      <td>2018-05-16</td>\n",
       "      <td>BTS (방탄소년단) LOVE YOURSELF 轉 Tear 'Singularity'...</td>\n",
       "      <td>2700800</td>\n",
       "    </tr>\n",
       "    <tr>\n",
       "      <th>37706</th>\n",
       "      <td>2017-11-30</td>\n",
       "      <td>BTS (방탄소년단) 'MIC Drop (Steve Aoki Remix)' Offi...</td>\n",
       "      <td>2674694</td>\n",
       "    </tr>\n",
       "  </tbody>\n",
       "</table>\n",
       "</div>"
      ],
      "text/plain": [
       "      trending_date                                              title  \\\n",
       "3195     2018-05-31                BTS (방탄소년단) 'FAKE LOVE' Official MV   \n",
       "6092     2018-05-31  Childish Gambino - This Is America (Official V...   \n",
       "35389    2017-12-14  YouTube Rewind: The Shape of 2017 | #YouTubeRe...   \n",
       "6028     2018-05-16  BTS (방탄소년단) LOVE YOURSELF 轉 Tear 'Singularity'...   \n",
       "37706    2017-11-30  BTS (방탄소년단) 'MIC Drop (Steve Aoki Remix)' Offi...   \n",
       "\n",
       "         likes  \n",
       "3195   5595203  \n",
       "6092   4934188  \n",
       "35389  3093544  \n",
       "6028   2700800  \n",
       "37706  2674694  "
      ]
     },
     "execution_count": 118,
     "metadata": {},
     "output_type": "execute_result"
    }
   ],
   "source": [
    "display(HTML(toggle_code_str))\n",
    "# Grouped by video_id for getting likes of each video at the last day of trending\n",
    "FinalData.sort_values(\"likes\", ascending = False)[['trending_date', 'title', 'likes']].head()"
   ]
  },
  {
   "cell_type": "markdown",
   "metadata": {},
   "source": [
    "### Top 5 Dislikes\n",
    "On the otherhand if the a video is also being disliked many times it can also be categorized as trending, even if it is for negative reasons. Here we get the videos with the top 5 most dislikes out of all the videos that trended."
   ]
  },
  {
   "cell_type": "code",
   "execution_count": 117,
   "metadata": {},
   "outputs": [
    {
     "data": {
      "text/html": [
       "\n",
       "<form action=\"javascript:code_toggle()\"><input type=\"submit\" id=\"toggleButton\" value=\"Hide Code\"></form>\n"
      ],
      "text/plain": [
       "<IPython.core.display.HTML object>"
      ]
     },
     "metadata": {},
     "output_type": "display_data"
    },
    {
     "data": {
      "text/html": [
       "<div>\n",
       "<style scoped>\n",
       "    .dataframe tbody tr th:only-of-type {\n",
       "        vertical-align: middle;\n",
       "    }\n",
       "\n",
       "    .dataframe tbody tr th {\n",
       "        vertical-align: top;\n",
       "    }\n",
       "\n",
       "    .dataframe thead th {\n",
       "        text-align: right;\n",
       "    }\n",
       "</style>\n",
       "<table border=\"1\" class=\"dataframe\">\n",
       "  <thead>\n",
       "    <tr style=\"text-align: right;\">\n",
       "      <th></th>\n",
       "      <th>trending_date</th>\n",
       "      <th>title</th>\n",
       "      <th>dislikes</th>\n",
       "    </tr>\n",
       "  </thead>\n",
       "  <tbody>\n",
       "    <tr>\n",
       "      <th>30047</th>\n",
       "      <td>2018-01-09</td>\n",
       "      <td>So Sorry.</td>\n",
       "      <td>1674420</td>\n",
       "    </tr>\n",
       "    <tr>\n",
       "      <th>35389</th>\n",
       "      <td>2017-12-14</td>\n",
       "      <td>YouTube Rewind: The Shape of 2017 | #YouTubeRe...</td>\n",
       "      <td>1643059</td>\n",
       "    </tr>\n",
       "    <tr>\n",
       "      <th>26211</th>\n",
       "      <td>2018-01-31</td>\n",
       "      <td>Suicide: Be Here Tomorrow.</td>\n",
       "      <td>487820</td>\n",
       "    </tr>\n",
       "    <tr>\n",
       "      <th>6092</th>\n",
       "      <td>2018-05-31</td>\n",
       "      <td>Childish Gambino - This Is America (Official V...</td>\n",
       "      <td>335462</td>\n",
       "    </tr>\n",
       "    <tr>\n",
       "      <th>24165</th>\n",
       "      <td>2018-02-09</td>\n",
       "      <td>LOGAN PAUL IS BACK!</td>\n",
       "      <td>291900</td>\n",
       "    </tr>\n",
       "  </tbody>\n",
       "</table>\n",
       "</div>"
      ],
      "text/plain": [
       "      trending_date                                              title  \\\n",
       "30047    2018-01-09                                          So Sorry.   \n",
       "35389    2017-12-14  YouTube Rewind: The Shape of 2017 | #YouTubeRe...   \n",
       "26211    2018-01-31                         Suicide: Be Here Tomorrow.   \n",
       "6092     2018-05-31  Childish Gambino - This Is America (Official V...   \n",
       "24165    2018-02-09                                LOGAN PAUL IS BACK!   \n",
       "\n",
       "       dislikes  \n",
       "30047   1674420  \n",
       "35389   1643059  \n",
       "26211    487820  \n",
       "6092     335462  \n",
       "24165    291900  "
      ]
     },
     "execution_count": 117,
     "metadata": {},
     "output_type": "execute_result"
    }
   ],
   "source": [
    "display(HTML(toggle_code_str))\n",
    "# Grouped by video_id for getting likes of each video at the last day of trending\n",
    "FinalData.sort_values(\"dislikes\", ascending = False)[['trending_date', 'title', 'dislikes']].head()"
   ]
  },
  {
   "cell_type": "markdown",
   "metadata": {},
   "source": [
    "### Top 5 Comment Count\n",
    "The amount of comments a video gets can also have an impact on whether it trends or not. So, here we get the videos with the top 5 most comments out of all the videos that trended."
   ]
  },
  {
   "cell_type": "code",
   "execution_count": 116,
   "metadata": {},
   "outputs": [
    {
     "data": {
      "text/html": [
       "\n",
       "<form action=\"javascript:code_toggle()\"><input type=\"submit\" id=\"toggleButton\" value=\"Hide Code\"></form>\n"
      ],
      "text/plain": [
       "<IPython.core.display.HTML object>"
      ]
     },
     "metadata": {},
     "output_type": "display_data"
    },
    {
     "data": {
      "text/html": [
       "<div>\n",
       "<style scoped>\n",
       "    .dataframe tbody tr th:only-of-type {\n",
       "        vertical-align: middle;\n",
       "    }\n",
       "\n",
       "    .dataframe tbody tr th {\n",
       "        vertical-align: top;\n",
       "    }\n",
       "\n",
       "    .dataframe thead th {\n",
       "        text-align: right;\n",
       "    }\n",
       "</style>\n",
       "<table border=\"1\" class=\"dataframe\">\n",
       "  <thead>\n",
       "    <tr style=\"text-align: right;\">\n",
       "      <th></th>\n",
       "      <th>trending_date</th>\n",
       "      <th>title</th>\n",
       "      <th>comment_count</th>\n",
       "    </tr>\n",
       "  </thead>\n",
       "  <tbody>\n",
       "    <tr>\n",
       "      <th>30047</th>\n",
       "      <td>2018-01-09</td>\n",
       "      <td>So Sorry.</td>\n",
       "      <td>1361580</td>\n",
       "    </tr>\n",
       "    <tr>\n",
       "      <th>3195</th>\n",
       "      <td>2018-05-31</td>\n",
       "      <td>BTS (방탄소년단) 'FAKE LOVE' Official MV</td>\n",
       "      <td>1225326</td>\n",
       "    </tr>\n",
       "    <tr>\n",
       "      <th>35389</th>\n",
       "      <td>2017-12-14</td>\n",
       "      <td>YouTube Rewind: The Shape of 2017 | #YouTubeRe...</td>\n",
       "      <td>810698</td>\n",
       "    </tr>\n",
       "    <tr>\n",
       "      <th>26211</th>\n",
       "      <td>2018-01-31</td>\n",
       "      <td>Suicide: Be Here Tomorrow.</td>\n",
       "      <td>647524</td>\n",
       "    </tr>\n",
       "    <tr>\n",
       "      <th>37706</th>\n",
       "      <td>2017-11-30</td>\n",
       "      <td>BTS (방탄소년단) 'MIC Drop (Steve Aoki Remix)' Offi...</td>\n",
       "      <td>539309</td>\n",
       "    </tr>\n",
       "  </tbody>\n",
       "</table>\n",
       "</div>"
      ],
      "text/plain": [
       "      trending_date                                              title  \\\n",
       "30047    2018-01-09                                          So Sorry.   \n",
       "3195     2018-05-31                BTS (방탄소년단) 'FAKE LOVE' Official MV   \n",
       "35389    2017-12-14  YouTube Rewind: The Shape of 2017 | #YouTubeRe...   \n",
       "26211    2018-01-31                         Suicide: Be Here Tomorrow.   \n",
       "37706    2017-11-30  BTS (방탄소년단) 'MIC Drop (Steve Aoki Remix)' Offi...   \n",
       "\n",
       "       comment_count  \n",
       "30047        1361580  \n",
       "3195         1225326  \n",
       "35389         810698  \n",
       "26211         647524  \n",
       "37706         539309  "
      ]
     },
     "execution_count": 116,
     "metadata": {},
     "output_type": "execute_result"
    }
   ],
   "source": [
    "display(HTML(toggle_code_str))\n",
    "FinalData.sort_values(\"comment_count\", ascending = False)[['trending_date', 'title', 'comment_count']].head()"
   ]
  },
  {
   "cell_type": "markdown",
   "metadata": {},
   "source": [
    "# Machine Learning"
   ]
  },
  {
   "cell_type": "markdown",
   "metadata": {},
   "source": [
    "## Training and Testing Data"
   ]
  },
  {
   "cell_type": "markdown",
   "metadata": {},
   "source": [
    "In order to make sure that the machine learning models don't simply become good at memorizing the the introduced data, the final dataset will have to be split into two : \n",
    "    1) Training Data: Used to build the machine learning model.\n",
    "    2) Testing Data: Used to assess how well the model works."
   ]
  },
  {
   "cell_type": "code",
   "execution_count": 108,
   "metadata": {},
   "outputs": [
    {
     "data": {
      "text/html": [
       "\n",
       "<form action=\"javascript:code_toggle()\"><input type=\"submit\" id=\"toggleButton\" value=\"Hide Code\"></form>\n"
      ],
      "text/plain": [
       "<IPython.core.display.HTML object>"
      ]
     },
     "metadata": {},
     "output_type": "display_data"
    },
    {
     "ename": "NameError",
     "evalue": "name 'split_train_test' is not defined",
     "output_type": "error",
     "traceback": [
      "\u001b[1;31m---------------------------------------------------------------------------\u001b[0m",
      "\u001b[1;31mNameError\u001b[0m                                 Traceback (most recent call last)",
      "\u001b[1;32m<ipython-input-108-9e5bb96ffa4b>\u001b[0m in \u001b[0;36m<module>\u001b[1;34m\u001b[0m\n\u001b[0;32m      1\u001b[0m \u001b[0mdisplay\u001b[0m\u001b[1;33m(\u001b[0m\u001b[0mHTML\u001b[0m\u001b[1;33m(\u001b[0m\u001b[0mtoggle_code_str\u001b[0m\u001b[1;33m)\u001b[0m\u001b[1;33m)\u001b[0m\u001b[1;33m\u001b[0m\u001b[1;33m\u001b[0m\u001b[0m\n\u001b[1;32m----> 2\u001b[1;33m \u001b[0mtrain_set\u001b[0m\u001b[1;33m,\u001b[0m \u001b[0mtest_set\u001b[0m \u001b[1;33m=\u001b[0m \u001b[0msplit_train_test\u001b[0m\u001b[1;33m(\u001b[0m\u001b[0mUSATrendingFinalData\u001b[0m\u001b[1;33m,\u001b[0m \u001b[1;36m0.2\u001b[0m\u001b[1;33m)\u001b[0m\u001b[1;33m\u001b[0m\u001b[1;33m\u001b[0m\u001b[0m\n\u001b[0m",
      "\u001b[1;31mNameError\u001b[0m: name 'split_train_test' is not defined"
     ]
    }
   ],
   "source": [
    "display(HTML(toggle_code_str))\n",
    "train_set, test_set = split_train_test(USATrendingFinalData, 0.2)"
   ]
  },
  {
   "cell_type": "code",
   "execution_count": null,
   "metadata": {},
   "outputs": [],
   "source": []
  },
  {
   "cell_type": "code",
   "execution_count": 107,
   "metadata": {},
   "outputs": [
    {
     "data": {
      "text/html": [
       "\n",
       "<form action=\"javascript:code_toggle()\"><input type=\"submit\" id=\"toggleButton\" value=\"Hide Code\"></form>\n"
      ],
      "text/plain": [
       "<IPython.core.display.HTML object>"
      ]
     },
     "metadata": {},
     "output_type": "display_data"
    }
   ],
   "source": [
    "display(HTML(toggle_code_str))\n",
    "#video_level['views_ratio'] = FinalData['views'].groupby(level=1).last() / video_level.views"
   ]
  },
  {
   "cell_type": "code",
   "execution_count": 106,
   "metadata": {},
   "outputs": [
    {
     "data": {
      "text/html": [
       "\n",
       "<form action=\"javascript:code_toggle()\"><input type=\"submit\" id=\"toggleButton\" value=\"Hide Code\"></form>\n"
      ],
      "text/plain": [
       "<IPython.core.display.HTML object>"
      ]
     },
     "metadata": {},
     "output_type": "display_data"
    },
    {
     "ename": "NameError",
     "evalue": "name 'X' is not defined",
     "output_type": "error",
     "traceback": [
      "\u001b[1;31m---------------------------------------------------------------------------\u001b[0m",
      "\u001b[1;31mNameError\u001b[0m                                 Traceback (most recent call last)",
      "\u001b[1;32m<ipython-input-106-4c81e828a9cf>\u001b[0m in \u001b[0;36m<module>\u001b[1;34m\u001b[0m\n\u001b[0;32m     12\u001b[0m \u001b[0mregr_rdg\u001b[0m \u001b[1;33m=\u001b[0m \u001b[0mRidge\u001b[0m \u001b[1;33m(\u001b[0m\u001b[0malpha\u001b[0m \u001b[1;33m=\u001b[0m \u001b[1;36m.5\u001b[0m\u001b[1;33m)\u001b[0m\u001b[1;33m\u001b[0m\u001b[1;33m\u001b[0m\u001b[0m\n\u001b[0;32m     13\u001b[0m \u001b[1;33m\u001b[0m\u001b[0m\n\u001b[1;32m---> 14\u001b[1;33m \u001b[0mregr_1\u001b[0m\u001b[1;33m.\u001b[0m\u001b[0mfit\u001b[0m\u001b[1;33m(\u001b[0m\u001b[0mX\u001b[0m\u001b[1;33m,\u001b[0m \u001b[0my\u001b[0m\u001b[1;33m)\u001b[0m\u001b[1;33m\u001b[0m\u001b[1;33m\u001b[0m\u001b[0m\n\u001b[0m\u001b[0;32m     15\u001b[0m \u001b[0mregr_2\u001b[0m\u001b[1;33m.\u001b[0m\u001b[0mfit\u001b[0m\u001b[1;33m(\u001b[0m\u001b[0mX\u001b[0m\u001b[1;33m,\u001b[0m \u001b[0my\u001b[0m\u001b[1;33m)\u001b[0m\u001b[1;33m\u001b[0m\u001b[1;33m\u001b[0m\u001b[0m\n\u001b[0;32m     16\u001b[0m \u001b[0mregr_ols\u001b[0m\u001b[1;33m.\u001b[0m\u001b[0mfit\u001b[0m\u001b[1;33m(\u001b[0m\u001b[0mX_reg\u001b[0m\u001b[1;33m,\u001b[0m \u001b[0my_reg\u001b[0m\u001b[1;33m)\u001b[0m\u001b[1;33m\u001b[0m\u001b[1;33m\u001b[0m\u001b[0m\n",
      "\u001b[1;31mNameError\u001b[0m: name 'X' is not defined"
     ]
    }
   ],
   "source": [
    "display(HTML(toggle_code_str))\n",
    "from sklearn import tree\n",
    "from sklearn.tree import DecisionTreeRegressor\n",
    "from sklearn import metrics\n",
    "from sklearn.linear_model import LinearRegression, Lars, Ridge\n",
    "\n",
    "\n",
    "regr_1 = DecisionTreeRegressor(max_depth=2,min_samples_leaf=.01)\n",
    "regr_2 = DecisionTreeRegressor(max_depth=4,min_samples_leaf=.01)\n",
    "regr_ols = LinearRegression()\n",
    "regr_lrs = Lars()\n",
    "regr_rdg = Ridge (alpha = .5)\n",
    "\n",
    "regr_1.fit(X, y)\n",
    "regr_2.fit(X, y)\n",
    "regr_ols.fit(X_reg, y_reg)\n",
    "regr_lrs.fit(X_reg, y_reg)\n",
    "regr_rdg.fit(X_reg, y_reg)\n",
    "\n",
    "y_1 = regr_1.predict(X)\n",
    "y_2 = regr_2.predict(X)\n",
    "y_ols = regr_ols.predict(X_reg)\n",
    "y_lrs = regr_lrs.predict(X_reg)\n",
    "y_rdg = regr_rdg.predict(X_reg)\n",
    "\n",
    "print((y_1 - y).describe(percentiles=[.05,.25,.5,.75,.95]))\n",
    "print('Regression Tree 1: R-sq = {:.2%}'.format(metrics.r2_score(y,y_1)))\n",
    "\n",
    "\n",
    "print((y_ols - y).describe(percentiles=[.05,.25,.5,.75,.95]))\n",
    "print('OLS: R-sq = {:.2%}'.format(metrics.r2_score(y_reg,y_ols)))\n",
    "\n",
    "\n",
    "\n",
    "print((y_lrs - y).describe(percentiles=[.05,.25,.5,.75,.95]))\n",
    "print('LARS: R-sq = {:.2%}'.format(metrics.r2_score(y_reg,y_lrs)))\n",
    "\n",
    "\n",
    "\n",
    "print((y_rdg - y).describe(percentiles=[.05,.25,.5,.75,.95]))\n",
    "print('Ridge Regression: R-sq = {:.2%}'.format(metrics.r2_score(y_reg,y_rdg)))"
   ]
  },
  {
   "cell_type": "markdown",
   "metadata": {},
   "source": [
    "# References\n",
    "<p> [1] Mitchell Jolly( Data Snaek) (2019). Trending YouTube Video Statistics <br>\n",
    "&nbsp;&nbsp;&nbsp;&nbsp;<i>Daily Statistics for Trending Youtube Videos,</i> Retrieved from:<br> &nbsp;&nbsp;&nbsp;&nbsp;https://www.kaggle.com/datasnaek/youtube-new </p>\n",
    "\n",
    "<p> [2] Mitchell Jolly & Data Snaek (2019). Trending YouTube Video Scraper <br>\n",
    "&nbsp;&nbsp;&nbsp;&nbsp;<i>Python script that scrapes the currently trending YouTube videos in a variety of countries,</i> Retrieved from:<br> &nbsp;&nbsp;&nbsp;&nbsp;https://github.com/DataSnaek/Trending-YouTube-Scraper </p>\n",
    "\n",
    "<p> [3] Author Unknown (2013). Python For Beginners <br>\n",
    "&nbsp;&nbsp;&nbsp;&nbsp;<i>Python's OS Module,</i> Retrieved from:<br> &nbsp;&nbsp;&nbsp;&nbsp;https://www.pythonforbeginners.com/os/pythons-os-module </p>\n",
    "\n",
    "<p> [4] Shubham. Ranjan (2019). Geeks For Geeks <br>\n",
    "&nbsp;&nbsp;&nbsp;&nbsp;<i>Python | Pandas dataframe.ffill(),</i> Retrieved from:<br> &nbsp;&nbsp;&nbsp;&nbsp;https://www.geeksforgeeks.org/python-pandas-dataframe-ffill/ </p>\n",
    "\n",
    "<p> [5] Andreas C. Muller & Sarah Guido (2013). Introduction to Machine Learning with Python:<br>\n",
    "&nbsp;&nbsp;&nbsp;&nbsp;<i>A guide for Data Scientists.,</i> Retrieved from:<br> &nbsp;&nbsp;&nbsp;&nbsp;https://www.pythonforbeginners.com/os/pythons-os-module </p>\n",
    "\n",
    "<p> [6] Michael Waskom (2012-2018). Seaborn <br>\n",
    "&nbsp;&nbsp;&nbsp;&nbsp;<i>An Introduction to Seaborn</i> Retrieved from:<br> &nbsp;&nbsp;&nbsp;&nbsp;https://seaborn.pydata.org/introduction.html#introduction </p>\n",
    "\n",
    "<p> [7] Author Unknown . scikit-learn <br>\n",
    "&nbsp;&nbsp;&nbsp;&nbsp;<i>5.9. Transforming the prediction target (y),</i> Retrieved from:<br> &nbsp;&nbsp;&nbsp;&nbsp;https://scikit-learn.org/stable/modules/preprocessing_targets.html#preprocessing-targets </p>\n",
    "\n",
    "<p> [8] Author Unknown . ipython.readthedocs.io <br>\n",
    "&nbsp;&nbsp;&nbsp;&nbsp;<i>Rich Outputs,</i> Retrieved from:<br> \n",
    "&nbsp;&nbsp;&nbsp;&nbsp; https://ipython.readthedocs.io/en/stable/interactive/plotting.html </p>\n",
    "\n",
    "<p> [9] Jason Ridgen (2017) Medium <br>\n",
    "&nbsp;&nbsp;&nbsp;&nbsp;<i> A guide to itertools,</i> Retrieved from:<br> \n",
    "&nbsp;&nbsp;&nbsp;&nbsp; https://medium.com/@jasonrigden/a-guide-to-python-itertools-82e5a306cdf8 </p>\n",
    "\n",
    "<p> [10] Author Unknown (2019) docs.python.org <br>\n",
    "&nbsp;&nbsp;&nbsp;&nbsp;<i> A guide to itertools,</i> Retrieved from:<br> \n",
    "&nbsp;&nbsp;&nbsp;&nbsp; https://docs.python.org/2/library/io.html</p>\n",
    "\n",
    "<p> [11] Guest Contributor (2019) docs.python.org <br>\n",
    "&nbsp;&nbsp;&nbsp;&nbsp;<i> Relative vs Absolute Imports in Python,</i> Retrieved from:<br> &nbsp;&nbsp;&nbsp;&nbsp; https://stackabuse.com/relative-vs-absolute-imports-in-python/</p>"
   ]
  }
 ],
 "metadata": {
  "hide_input": false,
  "kernelspec": {
   "display_name": "Python 3",
   "language": "python",
   "name": "python3"
  },
  "language_info": {
   "codemirror_mode": {
    "name": "ipython",
    "version": 3
   },
   "file_extension": ".py",
   "mimetype": "text/x-python",
   "name": "python",
   "nbconvert_exporter": "python",
   "pygments_lexer": "ipython3",
   "version": "3.7.1"
  }
 },
 "nbformat": 4,
 "nbformat_minor": 2
}
